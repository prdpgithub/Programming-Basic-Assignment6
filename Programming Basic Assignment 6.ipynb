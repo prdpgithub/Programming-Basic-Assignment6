{
 "cells": [
  {
   "cell_type": "code",
   "execution_count": 14,
   "id": "e644f860",
   "metadata": {
    "collapsed": true
   },
   "outputs": [
    {
     "name": "stdout",
     "output_type": "stream",
     "text": [
      "Enter value of n5\n",
      "0\n",
      "1\n",
      "1\n",
      "2\n",
      "3\n"
     ]
    }
   ],
   "source": [
    "#1.\tWrite a Python Program to Display Fibonacci Sequence Using Recursion?\n",
    "def fibo(n):\n",
    "    if n==1:\n",
    "        return 0\n",
    "    elif n==2:\n",
    "        return 1\n",
    "    else:\n",
    "        return (fibo(n-1) + fibo(n-2))\n",
    "n = int(input(\"Enter value of n\"))\n",
    "for i in range(1 ,n+1):\n",
    "    print(fibo(i))"
   ]
  },
  {
   "cell_type": "code",
   "execution_count": 5,
   "id": "9796e395",
   "metadata": {},
   "outputs": [
    {
     "name": "stdout",
     "output_type": "stream",
     "text": [
      "enter value of x5\n",
      "The factorial of 5 is 120\n"
     ]
    }
   ],
   "source": [
    "#2.\tWrite a Python Program to Display Fibonacci Sequence Using Recursion?\n",
    "def factorial(x):\n",
    "    \"\"\"This is a recursive function\n",
    "    to find the factorial of an integer\"\"\"\n",
    "\n",
    "    if x == 1:\n",
    "        return 1\n",
    "    else:\n",
    "        return (x * factorial(x-1))\n",
    "\n",
    "\n",
    "x = int(input(\"enter value of x\"))\n",
    "\n",
    "print(\"The factorial of\", x, \"is\", factorial(x))"
   ]
  },
  {
   "cell_type": "code",
   "execution_count": 3,
   "id": "e9380b7b",
   "metadata": {},
   "outputs": [
    {
     "name": "stdout",
     "output_type": "stream",
     "text": [
      "weight in kg 90\n",
      "height in metre 2\n",
      "22.5\n"
     ]
    }
   ],
   "source": [
    "#3.\tWrite a Python Program to calculate your Body Mass Index?\n",
    "weight= int(input(\"weight in kg \"))\n",
    "height = int(input(\"height in metre \"))\n",
    "bmi= weight/height**2\n",
    "print(bmi)\n"
   ]
  },
  {
   "cell_type": "code",
   "execution_count": 6,
   "id": "b10bcda1",
   "metadata": {},
   "outputs": [
    {
     "name": "stdout",
     "output_type": "stream",
     "text": [
      "enter value of a2\n",
      "Log value:  0.6931471805599453\n"
     ]
    }
   ],
   "source": [
    "#4.\tWrite a Python Program to calculate the natural logarithm of any number?\n",
    "import math   \n",
    "a = int(input(\"enter value of a\"))\n",
    "print(\"Log value: \", math.log(a))"
   ]
  },
  {
   "cell_type": "code",
   "execution_count": 7,
   "id": "0a020022",
   "metadata": {},
   "outputs": [
    {
     "name": "stdout",
     "output_type": "stream",
     "text": [
      "5\n",
      "225\n"
     ]
    }
   ],
   "source": [
    "#5.\tWrite a Python Program for cube sum of first n natural numbers?\n",
    "def sumOfSeries(n):\n",
    "    sum = 0\n",
    "    for i in range(1, n+1):\n",
    "        sum +=i*i*i\n",
    "          \n",
    "    return sum\n",
    "\n",
    "n = int(input())\n",
    "print(sumOfSeries(n))\n",
    "  "
   ]
  },
  {
   "cell_type": "code",
   "execution_count": null,
   "id": "e01572eb",
   "metadata": {},
   "outputs": [],
   "source": []
  }
 ],
 "metadata": {
  "kernelspec": {
   "display_name": "Python 3 (ipykernel)",
   "language": "python",
   "name": "python3"
  },
  "language_info": {
   "codemirror_mode": {
    "name": "ipython",
    "version": 3
   },
   "file_extension": ".py",
   "mimetype": "text/x-python",
   "name": "python",
   "nbconvert_exporter": "python",
   "pygments_lexer": "ipython3",
   "version": "3.9.7"
  }
 },
 "nbformat": 4,
 "nbformat_minor": 5
}
